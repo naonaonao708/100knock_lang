{
 "cells": [
  {
   "cell_type": "markdown",
   "metadata": {},
   "source": [
    "# 第4章: 形態素解析"
   ]
  },
  {
   "cell_type": "code",
   "execution_count": 1,
   "metadata": {},
   "outputs": [
    {
     "name": "stdout",
     "output_type": "stream",
     "text": [
      "{'surface': '名前', 'base': '名前', 'pos': '名詞', 'pos1': '一般'}\n",
      "{'surface': 'は', 'base': 'は', 'pos': '助詞', 'pos1': '係助詞'}\n",
      "{'surface': 'まだ', 'base': 'まだ', 'pos': '副詞', 'pos1': '助詞類接続'}\n",
      "{'surface': '無い', 'base': '無い', 'pos': '形容詞', 'pos1': '自立'}\n",
      "{'surface': '。', 'base': '。', 'pos': '記号', 'pos1': '句点'}\n"
     ]
    }
   ],
   "source": [
    "filename = './neko.txt.mecab'\n",
    "\n",
    "sentences = []\n",
    "morphs = []\n",
    "with open(filename, mode='r') as f:\n",
    "    for line in f:\n",
    "        if line != 'EOS\\n':\n",
    "            fields = line.split('\\t')\n",
    "            if len(fields) != 2 or fields[0] == '':\n",
    "                continue\n",
    "            else:\n",
    "                attr = fields[1].split(',')\n",
    "                morph = {'surface': fields[0], 'base': attr[6], 'pos': attr[0], 'pos1': attr[1]}\n",
    "                morphs.append(morph)\n",
    "        else:\n",
    "            sentences.append(morphs)\n",
    "            morphs = []\n",
    "        \n",
    "for morph in sentences[3]:\n",
    "    print(morph)"
   ]
  },
  {
   "cell_type": "code",
   "execution_count": 4,
   "metadata": {},
   "outputs": [
    {
     "name": "stdout",
     "output_type": "stream",
     "text": [
      "動詞の表層形の種類: 3893\n",
      "\n",
      "割っ\n",
      "圧さ\n",
      "失せる\n",
      "持ち切っ\n",
      "のぼる\n",
      "呑み込ま\n",
      "やられる\n",
      "付け\n",
      "振り上げ\n",
      "抛り出さ\n"
     ]
    }
   ],
   "source": [
    "ans = set()\n",
    "for sentence in sentences:\n",
    "    for morph in sentence:\n",
    "        if morph['pos'] == '動詞':\n",
    "            ans.add(morph['surface'])\n",
    "\n",
    "print(f'動詞の表層形の種類: {len(ans)}\\n')\n",
    "for v in list(ans)[:10]:\n",
    "    print(v)"
   ]
  },
  {
   "cell_type": "code",
   "execution_count": 6,
   "metadata": {},
   "outputs": [
    {
     "name": "stdout",
     "output_type": "stream",
     "text": [
      "ちゃう\n",
      "遂げる\n",
      "叩き込む\n",
      "失せる\n",
      "のぼる\n",
      "溜める\n",
      "やられる\n",
      "動き出す\n",
      "更ける\n",
      "添う\n"
     ]
    }
   ],
   "source": [
    "ans = set()\n",
    "for sentence in sentences:\n",
    "    for morph in sentence:\n",
    "        if morph['pos'] == '動詞':\n",
    "            ans.add(morph['base'])\n",
    "\n",
    "for v in list(ans)[:10]:\n",
    "    print(v)"
   ]
  },
  {
   "cell_type": "code",
   "execution_count": 13,
   "metadata": {},
   "outputs": [
    {
     "name": "stdout",
     "output_type": "stream",
     "text": [
      "痛憤の音\n",
      "同類のよう\n",
      "玄関の障子\n",
      "多量の滋味\n",
      "祐筆の妹\n",
      "畳の目\n",
      "葉蘭の影\n",
      "前のこと\n",
      "縄の各部\n",
      "魚の事\n"
     ]
    }
   ],
   "source": [
    "ans = set()\n",
    "for sentence in sentences:\n",
    "    for i in range(1, len(sentence) -1):\n",
    "        if sentence[i - 1]['pos'] == '名詞' and sentence[i]['surface'] == 'の' and sentence[i + 1]['pos'] == '名詞':\n",
    "            ans.add(sentence[i - 1]['surface'] + sentence[i]['surface'] + sentence[i + 1]['surface'])\n",
    "\n",
    "for n in list(ans)[:10]:\n",
    "  print(n)"
   ]
  },
  {
   "cell_type": "code",
   "execution_count": 12,
   "metadata": {},
   "outputs": [
    {
     "name": "stdout",
     "output_type": "stream",
     "text": [
      "連接名詞の種類: 4\n",
      "\n",
      "\n",
      "一\n",
      "敬具\n",
      "大学院\n"
     ]
    }
   ],
   "source": [
    "ans = set()\n",
    "for sentence in sentences:\n",
    "    nous = ''\n",
    "    num = 0\n",
    "    for morph in sentence:\n",
    "        if morph['pos'] == '名詞':\n",
    "            nouns = ''.join([nous, morph['surface']])\n",
    "            num += 1\n",
    "        elif num >= 2:\n",
    "            ans.add(nous)\n",
    "            nouns = ''\n",
    "            num = 0\n",
    "        else:\n",
    "            nouns = ''\n",
    "            num = 0\n",
    "    if num >= 2:\n",
    "        ans.add(nouns)\n",
    "\n",
    "print(f'連接名詞の種類: {len(ans)}\\n')\n",
    "for n in list(ans)[:10]:\n",
    "    print(n)"
   ]
  },
  {
   "cell_type": "code",
   "execution_count": 3,
   "metadata": {},
   "outputs": [
    {
     "name": "stdout",
     "output_type": "stream",
     "text": [
      "('の', 9194)\n",
      "('て', 6848)\n",
      "('は', 6420)\n",
      "('に', 6243)\n",
      "('を', 6071)\n",
      "('だ', 5975)\n",
      "('と', 5508)\n",
      "('が', 5337)\n",
      "('た', 4267)\n",
      "('する', 3657)\n"
     ]
    }
   ],
   "source": [
    "from collections import defaultdict \n",
    "\n",
    "ans = defaultdict(int)\n",
    "for sentence in sentences:\n",
    "    for morph in sentence:\n",
    "        if morph['pos'] != '記号':\n",
    "            ans[morph['base']] += 1\n",
    "ans = sorted(ans.items(), key=lambda x: x[1], reverse=True)\n",
    "\n",
    "for w in ans[:10]:\n",
    "    print(w)"
   ]
  },
  {
   "cell_type": "code",
   "execution_count": 4,
   "metadata": {},
   "outputs": [
    {
     "data": {
      "image/png": "[encoded data removed]",
      "text/plain": [
       "<Figure size 576x288 with 1 Axes>"
      ]
     },
     "metadata": {
      "needs_background": "light"
     },
     "output_type": "display_data"
    }
   ],
   "source": [
    "import matplotlib.pyplot as plt\n",
    "import japanize_matplotlib\n",
    "\n",
    "ans = defaultdict(int)\n",
    "for sentence in sentences:\n",
    "    for morph in sentence:\n",
    "        if morph['pos'] != '記号':\n",
    "            ans[morph['base']] += 1\n",
    "ans = sorted(ans.items(), key=lambda x: x[1], reverse=True)\n",
    "\n",
    "keys = [a[0] for a in ans[0:10]]\n",
    "values = [a[1] for a in ans[0:10]]\n",
    "plt.figure(figsize=(8, 4))\n",
    "plt.bar(keys, values)\n",
    "plt.show()"
   ]
  },
  {
   "cell_type": "code",
   "execution_count": 7,
   "metadata": {},
   "outputs": [
    {
     "data": {
      "image/png": "[encoded data removed]",
      "text/plain": [
       "<Figure size 576x288 with 1 Axes>"
      ]
     },
     "metadata": {
      "needs_background": "light"
     },
     "output_type": "display_data"
    }
   ],
   "source": [
    "ans = defaultdict(int)\n",
    "\n",
    "for sentence in sentences:\n",
    "    if '猫' in [morph['surface'] for morph in sentence]:\n",
    "        for morph in sentence:\n",
    "            if morph['pos'] != '記号':\n",
    "                ans[morph['base']] += 1\n",
    "del ans['猫']\n",
    "ans = sorted(ans.items(), key=lambda x:x[1], reverse=True)\n",
    "\n",
    "keys = [a[0] for a in ans[0:10]]\n",
    "values = [a[1] for a in ans[0:10]]\n",
    "plt.figure(figsize=(8, 4))\n",
    "plt.bar(keys, values)\n",
    "plt.show()"
   ]
  },
  {
   "cell_type": "code",
   "execution_count": 8,
   "metadata": {},
   "outputs": [
    {
     "data": {
      "image/png": "[encoded data removed]",
      "text/plain": [
       "<Figure size 576x288 with 1 Axes>"
      ]
     },
     "metadata": {
      "needs_background": "light"
     },
     "output_type": "display_data"
    }
   ],
   "source": [
    "ans = defaultdict(int)\n",
    "\n",
    "for sentence in sentences:\n",
    "    for morph in sentence:\n",
    "        if morph['pos'] != '記号':\n",
    "            ans[morph['base']] += 1\n",
    "ans = ans.values()\n",
    "\n",
    "plt.figure(figsize=(8,4))\n",
    "plt.hist(ans, bins=100)\n",
    "plt.show()"
   ]
  },
  {
   "cell_type": "code",
   "execution_count": 10,
   "metadata": {},
   "outputs": [
    {
     "data": {
      "image/png": "[encoded data removed]",
      "text/plain": [
       "<Figure size 576x288 with 1 Axes>"
      ]
     },
     "metadata": {
      "needs_background": "light"
     },
     "output_type": "display_data"
    }
   ],
   "source": [
    "import math\n",
    "ans = defaultdict(int)\n",
    "\n",
    "for sentence in sentences:\n",
    "    for morph in sentence:\n",
    "        if morph['pos'] != '記号':\n",
    "            ans[morph['base']] += 1\n",
    "ans = sorted(ans.items(), key=lambda x:x[1], reverse=True)\n",
    "\n",
    "ranks = [r + 1 for r in range(len(ans))]\n",
    "values = [a[1] for a in ans]\n",
    "plt.figure(figsize=(8,4))\n",
    "plt.scatter(ranks, values)\n",
    "plt.xscale('log')\n",
    "plt.yscale('log')\n",
    "plt.show()"
   ]
  },
  {
   "cell_type": "code",
   "execution_count": null,
   "metadata": {},
   "outputs": [],
   "source": []
  }
 ],
 "metadata": {
  "interpreter": {
   "hash": "aee8b7b246df8f9039afb4144a1f6fd8d2ca17a180786b69acc140d282b71a49"
  },
  "kernelspec": {
   "display_name": "Python 3.9.12 64-bit",
   "language": "python",
   "name": "python3"
  },
  "language_info": {
   "codemirror_mode": {
    "name": "ipython",
    "version": 3
   },
   "file_extension": ".py",
   "mimetype": "text/x-python",
   "name": "python",
   "nbconvert_exporter": "python",
   "pygments_lexer": "ipython3",
   "version": "3.9.13"
  },
  "orig_nbformat": 4
 },
 "nbformat": 4,
 "nbformat_minor": 2
}
