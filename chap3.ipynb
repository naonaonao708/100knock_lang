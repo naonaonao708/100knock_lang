{
 "cells": [
  {
   "cell_type": "markdown",
   "metadata": {},
   "source": [
    "# 第3章: 正規表現"
   ]
  },
  {
   "cell_type": "code",
   "execution_count": null,
   "metadata": {},
   "outputs": [],
   "source": [
    "import json\n",
    "\n",
    "filename = 'jawiki-country.json'\n",
    "with open(filename, mode='r') as f:\n",
    "    for line in f:\n",
    "        line = json.loads(line)\n",
    "        if line['title'] == 'イギリス':\n",
    "            text_uk = line['text']\n",
    "            break\n",
    "\n",
    "text_uk"
   ]
  },
  {
   "cell_type": "code",
   "execution_count": 2,
   "metadata": {},
   "outputs": [
    {
     "data": {
      "text/plain": [
       "'[[Category:イギリス|*]]\\n[[Category:イギリス連邦加盟国]]\\n[[Category:英連邦王国|*]]\\n[[Category:G8加盟国]]\\n[[Category:欧州連合加盟国|元]]\\n[[Category:海洋国家]]\\n[[Category:現存する君主国]]\\n[[Category:島国]]\\n[[Category:1801年に成立した国家・領域]]'"
      ]
     },
     "execution_count": 2,
     "metadata": {},
     "output_type": "execute_result"
    }
   ],
   "source": [
    "import re\n",
    "\n",
    "pattern = r'^(.*\\[\\[Category:.*\\]\\].*)$'\n",
    "result = '\\n'.join(re.findall(pattern, text_uk, re.MULTILINE))\n",
    "\n",
    "result"
   ]
  },
  {
   "cell_type": "code",
   "execution_count": 3,
   "metadata": {},
   "outputs": [
    {
     "name": "stdout",
     "output_type": "stream",
     "text": [
      "イギリス\n",
      "イギリス連邦加盟国\n",
      "英連邦王国\n",
      "G8加盟国\n",
      "欧州連合加盟国\n",
      "海洋国家\n",
      "現存する君主国\n",
      "島国\n",
      "1801年に成立した国家・領域\n"
     ]
    }
   ],
   "source": [
    "pattern = r'^.*\\[\\[Category:(.*?)(?:\\|.*)?\\]\\].*$'\n",
    "result = '\\n'.join(re.findall(pattern, text_uk, re.MULTILINE))\n",
    "\n",
    "print(result)"
   ]
  },
  {
   "cell_type": "code",
   "execution_count": 4,
   "metadata": {},
   "outputs": [
    {
     "name": "stdout",
     "output_type": "stream",
     "text": [
      "国名:1\n",
      "歴史:1\n",
      "地理:1\n",
      "主要都市:2\n",
      "気候:2\n",
      "政治:1\n",
      "元首:2\n",
      "法:2\n",
      "内政:2\n",
      "地方行政区分:2\n",
      "外交・軍事:2\n",
      "経済:1\n",
      "鉱業:2\n",
      "農業:2\n",
      "貿易:2\n",
      "不動産:2\n",
      "エネルギー政策:2\n",
      "通貨:2\n",
      "企業:2\n",
      "通信:3\n",
      "交通:1\n",
      "道路:2\n",
      "鉄道:2\n",
      "海運:2\n",
      "航空:2\n",
      "科学技術:1\n",
      "国民:1\n",
      "言語:2\n",
      "宗教:2\n",
      "婚姻:2\n",
      "移住:2\n",
      "教育:2\n",
      "医療:2\n",
      "文化:1\n",
      "食文化:2\n",
      "文学:2\n",
      "哲学:2\n",
      "音楽:2\n",
      "ポピュラー音楽:3\n",
      "映画:2\n",
      "コメディ:2\n",
      "国花:2\n",
      "世界遺産:2\n",
      "祝祭日:2\n",
      "スポーツ:2\n",
      "サッカー:3\n",
      "クリケット:3\n",
      "競馬:3\n",
      "モータースポーツ:3\n",
      "野球:3\n",
      "カーリング:3\n",
      "自転車競技:3\n",
      "脚注:1\n",
      "関連項目:1\n",
      "外部リンク:1\n"
     ]
    }
   ],
   "source": [
    "pattern = r'^(\\={2,})\\s*(.+?)\\s*(\\={2,}).*$'\n",
    "result = '\\n'.join(i[1] + ':' + str(len(i[0]) - 1) for i in re.findall(pattern, text_uk, re.MULTILINE))\n",
    "print(result)"
   ]
  },
  {
   "cell_type": "code",
   "execution_count": 5,
   "metadata": {},
   "outputs": [
    {
     "name": "stdout",
     "output_type": "stream",
     "text": [
      "Royal Coat of Arms of the United Kingdom.svg\n",
      "Descriptio Prime Tabulae Europae.jpg\n",
      "Lenepveu, Jeanne d'Arc au siège d'Orléans.jpg\n",
      "London.bankofengland.arp.jpg\n",
      "Battle of Waterloo 1815.PNG\n",
      "Uk topo en.jpg\n",
      "BenNevis2005.jpg\n",
      "Population density UK 2011 census.png\n",
      "2019 Greenwich Peninsula & Canary Wharf.jpg\n",
      "Birmingham Skyline from Edgbaston Cricket Ground crop.jpg\n",
      "Leeds CBD at night.jpg\n",
      "Glasgow and the Clyde from the air (geograph 4665720).jpg\n",
      "Palace of Westminster, London - Feb 2007.jpg\n",
      "Scotland Parliament Holyrood.jpg\n",
      "Donald Trump and Theresa May (33998675310) (cropped).jpg\n",
      "Soldiers Trooping the Colour, 16th June 2007.jpg\n",
      "City of London skyline from London City Hall - Oct 2008.jpg\n",
      "Oil platform in the North SeaPros.jpg\n",
      "Eurostar at St Pancras Jan 2008.jpg\n",
      "Heathrow Terminal 5C Iwelumo-1.jpg\n",
      "Airbus A380-841 G-XLEB British Airways (10424102995).jpg\n",
      "UKpop.svg\n",
      "Anglospeak.svg\n",
      "Royal Aberdeen Children's Hospital.jpg\n",
      "CHANDOS3.jpg\n",
      "The Fabs.JPG\n",
      "Wembley Stadium, illuminated.jpg\n"
     ]
    }
   ],
   "source": [
    "pattern = r'\\[\\[ファイル:(.+?)\\|'\n",
    "result = '\\n'.join(re.findall(pattern, text_uk))\n",
    "print(result)"
   ]
  },
  {
   "cell_type": "code",
   "execution_count": null,
   "metadata": {},
   "outputs": [],
   "source": []
  }
 ],
 "metadata": {
  "interpreter": {
   "hash": "aee8b7b246df8f9039afb4144a1f6fd8d2ca17a180786b69acc140d282b71a49"
  },
  "kernelspec": {
   "display_name": "Python 3.9.12 64-bit",
   "language": "python",
   "name": "python3"
  },
  "language_info": {
   "codemirror_mode": {
    "name": "ipython",
    "version": 3
   },
   "file_extension": ".py",
   "mimetype": "text/x-python",
   "name": "python",
   "nbconvert_exporter": "python",
   "pygments_lexer": "ipython3",
   "version": "3.9.12"
  },
  "orig_nbformat": 4
 },
 "nbformat": 4,
 "nbformat_minor": 2
}
