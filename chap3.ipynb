{
 "cells": [
  {
   "cell_type": "markdown",
   "metadata": {},
   "source": [
    "# 第3章: 正規表現"
   ]
  },
  {
   "cell_type": "code",
   "execution_count": null,
   "metadata": {},
   "outputs": [],
   "source": [
    "import json\n",
    "\n",
    "filename = 'jawiki-country.json'\n",
    "with open(filename, mode='r') as f:\n",
    "    for line in f:\n",
    "        line = json.loads(line)\n",
    "        if line['title'] == 'イギリス':\n",
    "            text_uk = line['text']\n",
    "            break\n",
    "\n",
    "text_uk"
   ]
  },
  {
   "cell_type": "code",
   "execution_count": 2,
   "metadata": {},
   "outputs": [
    {
     "data": {
      "text/plain": [
       "'[[Category:イギリス|*]]\\n[[Category:イギリス連邦加盟国]]\\n[[Category:英連邦王国|*]]\\n[[Category:G8加盟国]]\\n[[Category:欧州連合加盟国|元]]\\n[[Category:海洋国家]]\\n[[Category:現存する君主国]]\\n[[Category:島国]]\\n[[Category:1801年に成立した国家・領域]]'"
      ]
     },
     "execution_count": 2,
     "metadata": {},
     "output_type": "execute_result"
    }
   ],
   "source": [
    "import re\n",
    "\n",
    "pattern = r'^(.*\\[\\[Category:.*\\]\\].*)$'\n",
    "result = '\\n'.join(re.findall(pattern, text_uk, re.MULTILINE))\n",
    "\n",
    "result"
   ]
  },
  {
   "cell_type": "code",
   "execution_count": 4,
   "metadata": {},
   "outputs": [
    {
     "name": "stdout",
     "output_type": "stream",
     "text": [
      "イギリス\n",
      "イギリス連邦加盟国\n",
      "英連邦王国\n",
      "G8加盟国\n",
      "欧州連合加盟国\n",
      "海洋国家\n",
      "現存する君主国\n",
      "島国\n",
      "1801年に成立した国家・領域\n"
     ]
    }
   ],
   "source": [
    "pattern = r'^.*\\[\\[Category:(.*?)(?:\\|.*)?\\]\\].*$'\n",
    "result = '\\n'.join(re.findall(pattern, text_uk, re.MULTILINE))\n",
    "\n",
    "print(result)"
   ]
  },
  {
   "cell_type": "code",
   "execution_count": null,
   "metadata": {},
   "outputs": [],
   "source": []
  }
 ],
 "metadata": {
  "interpreter": {
   "hash": "aee8b7b246df8f9039afb4144a1f6fd8d2ca17a180786b69acc140d282b71a49"
  },
  "kernelspec": {
   "display_name": "Python 3.9.12 64-bit",
   "language": "python",
   "name": "python3"
  },
  "language_info": {
   "codemirror_mode": {
    "name": "ipython",
    "version": 3
   },
   "file_extension": ".py",
   "mimetype": "text/x-python",
   "name": "python",
   "nbconvert_exporter": "python",
   "pygments_lexer": "ipython3",
   "version": "3.9.12"
  },
  "orig_nbformat": 4
 },
 "nbformat": 4,
 "nbformat_minor": 2
}
